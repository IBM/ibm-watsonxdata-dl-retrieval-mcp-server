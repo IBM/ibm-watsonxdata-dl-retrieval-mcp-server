{
 "cells": [
  {
   "cell_type": "markdown",
   "id": "4d41e89b-77d8-451e-bcb1-a45121d15095",
   "metadata": {},
   "source": [
    "# Agent Build with Langchain Agents and watsonx.data document libraray retrival MCP Server"
   ]
  },
  {
   "cell_type": "markdown",
   "id": "dc3cf40d-9c4a-4b43-99f6-0ff3c6233149",
   "metadata": {},
   "source": [
    "#### Install the dependencies"
   ]
  },
  {
   "cell_type": "code",
   "execution_count": null,
   "id": "10075be7-c22d-4e48-9739-1ed952b89a89",
   "metadata": {},
   "outputs": [],
   "source": [
    "!pip install ibm-watsonxdata-dl-retrieval-mcp-server langchain-mcp-adapters langgraph langchain ibm_watson_machine_learning langchain_ibm"
   ]
  },
  {
   "cell_type": "markdown",
   "id": "88b7d5b7-3be2-4df7-817c-e2f39dd1bbb9",
   "metadata": {},
   "source": [
    "#### Add the environment variables"
   ]
  },
  {
   "cell_type": "code",
   "execution_count": null,
   "id": "5e2722fd-725f-4573-889e-5e97bab91fea",
   "metadata": {},
   "outputs": [],
   "source": [
    "\n",
    "import os\n",
    "\n",
    "os.environ[\"WATSONX_API_KEY\"]=\"<>\"\n",
    "os.environ[\"WATSONX_PROJECT_ID\"]=\"<>\"\n",
    "os.environ[\"WATSONX_MODEL_ID\"] = \"meta-llama/llama-3-3-70b-instruct\"\n",
    "os.environ[\"WATSONX_URL\"]=\"https://eu-de.ml.cloud.ibm.com\""
   ]
  },
  {
   "cell_type": "markdown",
   "id": "2dcaffbb-7875-45c5-8f94-dd17f0ac1bdc",
   "metadata": {},
   "source": [
    "#### Imports"
   ]
  },
  {
   "cell_type": "code",
   "execution_count": 50,
   "id": "eecd6ec7-db77-4a0d-94f5-7570e0c1b0ed",
   "metadata": {},
   "outputs": [],
   "source": [
    "\n",
    "from langchain_mcp_adapters.client import MultiServerMCPClient\n",
    "from langgraph.prebuilt import create_react_agent\n",
    "from langchain_mcp_adapters.tools import load_mcp_tools\n",
    "from ibm_watson_machine_learning.metanames import GenTextParamsMetaNames as GenParams\n",
    "from langchain_ibm import ChatWatsonx\n",
    "import os\n",
    "import asyncio"
   ]
  },
  {
   "cell_type": "markdown",
   "id": "48a6aea9-f15d-4af3-9330-d97b420cb99d",
   "metadata": {},
   "source": [
    "#### Setting up ChatWatsonx llm"
   ]
  },
  {
   "cell_type": "code",
   "execution_count": 51,
   "id": "1b717416-250b-4171-a0a0-d12b0a40dea9",
   "metadata": {},
   "outputs": [],
   "source": [
    "parameters = {\n",
    "    GenParams.DECODING_METHOD: \"greedy\",\n",
    "    GenParams.MAX_NEW_TOKENS: 8000,\n",
    "    GenParams.MIN_NEW_TOKENS: 1,\n",
    "    GenParams.TEMPERATURE: 0.7,\n",
    "    }\n",
    "\n",
    "model = ChatWatsonx(\n",
    "    model_id=os.getenv(\"WATSONX_MODEL\", \"meta-llama/llama-3-3-70b-instruct\"),\n",
    "    apikey=os.getenv(\"WATSONX_API_KEY\"),\n",
    "    project_id=os.getenv(\"WATSONX_PROJECT_ID\"),\n",
    "    url=os.getenv(\"WATSONX_URL\", \"https://eu-de.ml.cloud.ibm.com\"),\n",
    "    parameters=parameters\n",
    ")\n"
   ]
  },
  {
   "cell_type": "markdown",
   "id": "ff2c3f85-d9b7-4f13-8eac-0cf00e1e1ddf",
   "metadata": {},
   "source": [
    "### MCP Client creation (SSE Transport mode) "
   ]
  },
  {
   "cell_type": "code",
   "execution_count": 52,
   "id": "c8a45be9-13e7-4894-bf99-650a3c807b6e",
   "metadata": {},
   "outputs": [
    {
     "name": "stdout",
     "output_type": "stream",
     "text": [
      "Created the mcp client in sse transport mode\n"
     ]
    }
   ],
   "source": [
    "client = MultiServerMCPClient(\n",
    "    {\n",
    "        \"dl_retrieval\": {\n",
    "            \"transport\": \"sse\",\n",
    "            \"url\": \"http://localhost:8000/sse\",\n",
    "            \"init_delay\": 5.0\n",
    "        },\n",
    "    })\n",
    "\n",
    "print(\"Created the mcp client in sse transport mode\")"
   ]
  },
  {
   "cell_type": "markdown",
   "id": "1a143b0b-b5f1-4db1-9349-b97f17e2c866",
   "metadata": {},
   "source": [
    "#### List the available tools"
   ]
  },
  {
   "cell_type": "code",
   "execution_count": null,
   "id": "726be9d6-a950-48dd-beaa-431baee7c908",
   "metadata": {},
   "outputs": [],
   "source": [
    "\n",
    "async def printAvailableTools():  \n",
    "    tools = []\n",
    "    try:\n",
    "        print(\"Attempting to create session...\")\n",
    "        async with client.session(server_name=\"dl_retrieval\") as session:\n",
    "            try:\n",
    "                print(\"session created\")\n",
    "                mcp_tools = await load_mcp_tools(session)\n",
    "                tools.extend(mcp_tools)\n",
    "\n",
    "                print(\"\\nAvailable Tools:\")\n",
    "                for i, tool in enumerate(tools, 1):\n",
    "                    print(f\"{i}. {tool.name}\")\n",
    "                    print(f\"   Description: {tool.description}\")\n",
    "                    print(\"-\" * 50)\n",
    "            except Exception as e:\n",
    "                    print(f\"Failed to load MCP tools: {e}\")\n",
    "                    raise\n",
    "    except Exception as e:\n",
    "        print(f\"Failed to create session: {e}\")\n",
    "        raise\n",
    "\n",
    "await printAvailableTools()"
   ]
  },
  {
   "cell_type": "markdown",
   "id": "36f24d9d-ca28-4446-beb4-f8f214f3ec67",
   "metadata": {},
   "source": [
    "#### Function for creating and invoking the langchain agent"
   ]
  },
  {
   "cell_type": "code",
   "execution_count": null,
   "id": "e8c8a907-7dc2-49d4-932f-20b1dc63ed90",
   "metadata": {},
   "outputs": [],
   "source": [
    "async def createLangchainAgentAndRun():   \n",
    "    try:\n",
    "        tools = []\n",
    "        print(\"Attempting to create session...\")\n",
    "        async with client.session(server_name=\"dl_retrieval\") as session:\n",
    "                print(\"session created\")\n",
    "                mcp_tools = await load_mcp_tools(session)\n",
    "                tools.extend(mcp_tools)\n",
    "                dl_agent = create_react_agent(model=model, tools=tools,prompt=(\n",
    "                    \"You are document library search and response agent\"\n",
    "                    \"Your task is to answer the user query by calling the relevant tools given to you\"\n",
    "                    \"Always show the output of the function call\"\n",
    "                ))\n",
    "                                                                            \n",
    "                user_input = \"What is the total invoice count\"\n",
    "                \n",
    "                print(\"Agent created. Ready to interact!\")\n",
    "                \n",
    "                # invocation\n",
    "                try:\n",
    "                \n",
    "                    result = await dl_agent.ainvoke({\n",
    "                        \"messages\": [\n",
    "                            {\n",
    "                                \"role\": \"user\",\n",
    "                                \"content\": user_input\n",
    "                            }\n",
    "                        ]\n",
    "                    })\n",
    "                    print(result)\n",
    "                except Exception as e:\n",
    "                    print(f\"Error: {str(e)}\")\n",
    "                    raise\n",
    "    except Exception as e:\n",
    "        print(f\"Failed to create session: {e}\")\n",
    "        raise\n",
    "\n",
    "await createLangchainAgentAndRun()\n",
    "        \n",
    "                "
   ]
  }
 ],
 "metadata": {
  "kernelspec": {
   "display_name": ".venv",
   "language": "python",
   "name": "python3"
  },
  "language_info": {
   "codemirror_mode": {
    "name": "ipython",
    "version": 3
   },
   "file_extension": ".py",
   "mimetype": "text/x-python",
   "name": "python",
   "nbconvert_exporter": "python",
   "pygments_lexer": "ipython3",
   "version": "3.11.12"
  }
 },
 "nbformat": 4,
 "nbformat_minor": 5
}
